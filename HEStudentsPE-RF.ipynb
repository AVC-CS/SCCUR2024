{
 "cells": [
  {
   "cell_type": "markdown",
   "metadata": {},
   "source": [
    "---\n",
    "---"
   ]
  },
  {
   "cell_type": "markdown",
   "metadata": {},
   "source": [
    "# Experiment 2\n",
    "# correlation with target\n",
    "# Random Forest with optimized parameters"
   ]
  },
  {
   "cell_type": "code",
   "execution_count": 42,
   "metadata": {},
   "outputs": [],
   "source": [
    "\n",
    "import warnings\n",
    "warnings.filterwarnings('ignore')\n",
    "import numpy as np\n",
    "import pandas as pd\n",
    "import matplotlib.pyplot as plt\n",
    "\n",
    "from sklearn.model_selection import train_test_split\n",
    "from sklearn.metrics import *\n"
   ]
  },
  {
   "cell_type": "code",
   "execution_count": 43,
   "metadata": {},
   "outputs": [],
   "source": [
    "from sklearn.preprocessing import StandardScaler\n",
    "from sklearn.ensemble import RandomForestRegressor\n",
    "from sklearn.model_selection import GridSearchCV"
   ]
  },
  {
   "cell_type": "code",
   "execution_count": 44,
   "metadata": {},
   "outputs": [],
   "source": [
    "student_df = pd.read_csv(\"StudentsPerformance.csv\")\n",
    "\n",
    "# student_df.head()\n",
    "# student_df.info()"
   ]
  },
  {
   "cell_type": "markdown",
   "metadata": {},
   "source": [
    "### 8:1:1"
   ]
  },
  {
   "cell_type": "code",
   "execution_count": 48,
   "metadata": {},
   "outputs": [
    {
     "name": "stdout",
     "output_type": "stream",
     "text": [
      "Top correlations with target:\n",
      "\n",
      "Selected features based on correlation:\n",
      "['2', '29', '30', '18', '5', '22', '9', '8', '20', '21']\n"
     ]
    }
   ],
   "source": [
    "# 1. First, let's check correlation of ALL numeric columns with your target\n",
    "numeric_columns = student_df.select_dtypes(include=[np.number]).columns\n",
    "correlations = student_df[numeric_columns].corr()['GRADE'].sort_values(ascending=False)\n",
    "print(\"Top correlations with target:\")\n",
    "# print(correlations)\n",
    "\n",
    "# 2. Select only the most correlated features (|correlation| > 0.1)\n",
    "better_features = correlations[abs(correlations) > 0.1].index.tolist()\n",
    "better_features = ['2', '29', '30', '18', '5', 'GRADE', '22','9','8', '20', '21']\n",
    "better_features.remove('GRADE')  # Remove target from features\n",
    "\n",
    "print(\"\\nSelected features based on correlation:\")\n",
    "print(better_features)\n",
    "\n",
    "# 3. Try model with better features\n",
    "X = student_df[better_features]\n",
    "y = student_df['GRADE']\n",
    "\n",
    "# 4. Split and scale\n",
    "X_temp, X_test, y_temp, y_test = train_test_split(X, y, test_size=0.1, random_state=42)\n",
    "X_train, X_val, y_train, y_val = train_test_split(X_temp, y_temp, test_size=0.11, random_state=42)\n",
    "# 8:1:1 = train:val:test\n",
    "scaler = StandardScaler()\n",
    "X_train_scaled = scaler.fit_transform(X_train)\n",
    "X_val_scaled = scaler.transform(X_val)\n",
    "X_test_scaled = scaler.transform(X_test)\n"
   ]
  },
  {
   "cell_type": "markdown",
   "metadata": {},
   "source": [
    "### 6:2:2"
   ]
  },
  {
   "cell_type": "code",
   "execution_count": 39,
   "metadata": {},
   "outputs": [
    {
     "name": "stdout",
     "output_type": "stream",
     "text": [
      "Top correlations with target:\n",
      "\n",
      "Selected features based on correlation:\n",
      "['2', '29', '30', '18', '5', 'GRADE', '22', '9', '8', '20', '21']\n"
     ]
    }
   ],
   "source": [
    "# 1. First, let's check correlation of ALL numeric columns with your target\n",
    "numeric_columns = student_df.select_dtypes(include=[np.number]).columns\n",
    "correlations = student_df[numeric_columns].corr()['GRADE'].sort_values(ascending=False)\n",
    "print(\"Top correlations with target:\")\n",
    "# print(correlations)\n",
    "\n",
    "# 2. Select only the most correlated features (|correlation| > 0.1)\n",
    "better_features = correlations[abs(correlations) > 0.1].index.tolist()\n",
    "better_features.remove('GRADE')  # Remove target from features\n",
    "better_features = ['2', '29', '30', '18', '5', '22','9','8', '20', '21']\n",
    "\n",
    "print(\"\\nSelected features based on correlation:\")\n",
    "print(better_features)\n",
    "\n",
    "# 3. Try model with better features\n",
    "X = student_df[better_features]\n",
    "y = student_df['GRADE']\n",
    "\n",
    "# 4. Split and scale\n",
    "X_temp, X_test, y_temp, y_test = train_test_split(X, y, test_size=0.3, random_state=42)\n",
    "X_train, X_val, y_train, y_val = train_test_split(X_temp, y_temp, test_size=0.3, random_state=42)\n",
    "# 8:1:1 = train:val:test\n",
    "scaler = StandardScaler()\n",
    "X_train_scaled = scaler.fit_transform(X_train)\n",
    "X_val_scaled = scaler.transform(X_val)\n",
    "X_test_scaled = scaler.transform(X_test)\n"
   ]
  },
  {
   "cell_type": "markdown",
   "metadata": {},
   "source": [
    "### 7:1.5:1.5 "
   ]
  },
  {
   "cell_type": "code",
   "execution_count": 58,
   "metadata": {},
   "outputs": [
    {
     "name": "stdout",
     "output_type": "stream",
     "text": [
      "Top correlations with target:\n",
      "\n",
      "Selected features based on correlation:\n",
      "['2', '29', '30', '18', '5', '22', '9', '8', '20', '21']\n"
     ]
    }
   ],
   "source": [
    "# 1. First, let's check correlation of ALL numeric columns with your target\n",
    "numeric_columns = student_df.select_dtypes(include=[np.number]).columns\n",
    "correlations = student_df[numeric_columns].corr()['GRADE'].sort_values(ascending=False)\n",
    "print(\"Top correlations with target:\")\n",
    "# print(correlations)\n",
    "\n",
    "# 2. Select only the most correlated features (|correlation| > 0.1)\n",
    "better_features = correlations[abs(correlations) > 0.1].index.tolist()\n",
    "better_features = ['2', '29', '30', '18', '5', 'GRADE', '22','9','8', '20', '21']\n",
    "better_features.remove('GRADE')  # Remove target from features\n",
    "\n",
    "print(\"\\nSelected features based on correlation:\")\n",
    "print(better_features)\n",
    "\n",
    "# 3. Try model with better features\n",
    "X = student_df[better_features]\n",
    "y = student_df['GRADE']\n",
    "\n",
    "# 4. Split and scale\n",
    "X_temp, X_test, y_temp, y_test = train_test_split(X, y, test_size=0.15, random_state=42)\n",
    "X_train, X_val, y_train, y_val = train_test_split(X_temp, y_temp, test_size=0.15, random_state=42)\n",
    "# 8:1:1 = train:val:test\n",
    "scaler = StandardScaler()\n",
    "X_train_scaled = scaler.fit_transform(X_train)\n",
    "X_val_scaled = scaler.transform(X_val)\n",
    "X_test_scaled = scaler.transform(X_test)\n"
   ]
  },
  {
   "cell_type": "markdown",
   "metadata": {},
   "source": [
    "## Train the Random Forest Model with optimized parameters"
   ]
  },
  {
   "cell_type": "code",
   "execution_count": 59,
   "metadata": {},
   "outputs": [
    {
     "name": "stdout",
     "output_type": "stream",
     "text": [
      "MSE: 5.561091509327974\n",
      "MAE: 1.9238095238095239\n",
      "\n",
      "Random Forest Metrics:\n",
      "R-squared: -0.047710506233841654\n",
      "RMSE: 2.3581966646842614\n",
      "\n",
      "Feature Importance:\n",
      "  Feature  Importance\n",
      "1      29    0.216254\n",
      "0       2    0.131739\n",
      "2      30    0.129351\n",
      "7       8    0.122495\n",
      "3      18    0.120450\n",
      "6       9    0.084993\n",
      "4       5    0.073351\n",
      "5      22    0.043904\n",
      "9      21    0.042174\n",
      "8      20    0.035290\n"
     ]
    }
   ],
   "source": [
    "# 5. Try multiple models and hyperparameter tuning\n",
    "# Try Random Forest with optimized parameters\n",
    "param_grid = {\n",
    "    'n_estimators': [100, 200, 300],\n",
    "    'max_depth': [None, 10, 20, 30],\n",
    "    'min_samples_split': [2, 5, 10],\n",
    "    'min_samples_leaf': [1, 2, 4]\n",
    "}\n",
    "\n",
    "rf = RandomForestRegressor(random_state=42)\n",
    "# Grid Search\n",
    "# grid_search = GridSearchCV(rf, param_grid, cv=5, scoring='r2', n_jobs=-1)\n",
    "# grid_search.fit(X_train_scaled, y_train)\n",
    "\n",
    "# print(\"Best parameters:\", grid_search.best_params_)\n",
    "# best_rf = grid_search.best_estimator_\n",
    "\n",
    "# Also try XGBoost which often performs well\n",
    "# Commented out XGBoost import since package is not available\n",
    "# from xgboost import XGBRegressor  # Module not available\n",
    "# XGBoost not available, skipping XGBoost model\n",
    "# XGBoost model commented out since xgboost package is not available\n",
    "rf_model = RandomForestRegressor(n_estimators=100, random_state=42)\n",
    "rf_model.fit(X_train_scaled, y_train)\n",
    "rf_pred = rf_model.predict(X_test_scaled)\n",
    "\n",
    "print(f\"MSE: {mean_squared_error(y_test, rf_pred)}\")\n",
    "print(f\"MAE: {mean_absolute_error(y_test, rf_pred)}\")\n",
    "print(\"\\nRandom Forest Metrics:\")\n",
    "print(f\"R-squared: {r2_score(y_test, rf_pred)}\")\n",
    "print(f\"RMSE: {np.sqrt(mean_squared_error(y_test, rf_pred))}\")\n",
    "\n",
    "# 6. Feature importance from Random Forest\n",
    "feature_importance = pd.DataFrame({\n",
    "    'Feature': better_features,\n",
    "    'Importance': rf_model.feature_importances_\n",
    "})\n",
    "print(\"\\nFeature Importance:\")\n",
    "print(feature_importance.sort_values('Importance', ascending=False))"
   ]
  },
  {
   "cell_type": "markdown",
   "metadata": {},
   "source": [
    "### Data Visualization"
   ]
  },
  {
   "cell_type": "code",
   "execution_count": 57,
   "metadata": {},
   "outputs": [
    {
     "data": {
      "text/plain": [
       "<matplotlib.legend.Legend at 0x7fae5a4f1700>"
      ]
     },
     "execution_count": 57,
     "metadata": {},
     "output_type": "execute_result"
    },
    {
     "data": {
      "image/png": "[encoded data removed]",
      "text/plain": [
       "<Figure size 800x800 with 1 Axes>"
      ]
     },
     "metadata": {},
     "output_type": "display_data"
    }
   ],
   "source": [
    "plt.figure(figsize=(8, 8))\n",
    "\n",
    "plt.scatter(y_test, rf_pred)\n",
    "plt.plot([y_test.min(), y_test.max()], [y_test.min(), y_test.max()], '--k', label=\"Correct prediction\")\n",
    "\n",
    "plt.xlabel('True GRADE')\n",
    "plt.ylabel('Predicted GRADE')\n",
    "plt.title(\"Real vs Predicted GRADE\")\n",
    "\n",
    "plt.legend()"
   ]
  },
  {
   "cell_type": "markdown",
   "metadata": {},
   "source": [
    "---\n",
    "---\n",
    "---"
   ]
  },
  {
   "cell_type": "markdown",
   "metadata": {},
   "source": [
    "# KNN with 5 features"
   ]
  },
  {
   "cell_type": "code",
   "execution_count": 54,
   "metadata": {},
   "outputs": [
    {
     "name": "stdout",
     "output_type": "stream",
     "text": [
      "K=3, R² Score: -0.361\n",
      "K=5, R² Score: -0.210\n",
      "K=7, R² Score: -0.146\n",
      "K=9, R² Score: -0.214\n",
      "K=11, R² Score: -0.062\n",
      "\n",
      "Final Model (K=11):\n",
      "R² Score: -0.062\n",
      "RMSE: 2.210\n",
      "\n",
      "Predictions for new data: [2.63636364 4.09090909]\n"
     ]
    }
   ],
   "source": [
    "from sklearn.neighbors import KNeighborsRegressor\n",
    "from sklearn.preprocessing import StandardScaler\n",
    "\n",
    "# 1. Prepare data\n",
    "X = student_df[['11', '22', '25', '26', '30']]  # 5 features\n",
    "y = student_df['GRADE']\n",
    "\n",
    "# 2. Split data\n",
    "X_train, X_test, y_train, y_test = train_test_split(X, y, test_size=0.2, random_state=42)\n",
    "\n",
    "# 3. Scale features (important for KNN!)\n",
    "scaler = StandardScaler()\n",
    "X_train_scaled = scaler.fit_transform(X_train)\n",
    "X_test_scaled = scaler.transform(X_test)\n",
    "\n",
    "# 4. Try different K values to find the best one\n",
    "k_values = [3, 5, 7, 9, 11]\n",
    "best_score = -float('inf')\n",
    "best_k = None\n",
    "\n",
    "for k in k_values:\n",
    "    knn = KNeighborsRegressor(n_neighbors=k)\n",
    "    knn.fit(X_train_scaled, y_train)\n",
    "    score = knn.score(X_test_scaled, y_test)\n",
    "    print(f\"K={k}, R² Score: {score:.3f}\")\n",
    "    \n",
    "    if score > best_score:\n",
    "        best_score = score\n",
    "        best_k = k\n",
    "\n",
    "# 5. Train final model with best K\n",
    "knn_final = KNeighborsRegressor(n_neighbors=best_k)\n",
    "knn_final.fit(X_train_scaled, y_train)\n",
    "\n",
    "# 6. Make predictions and evaluate\n",
    "predictions = knn_final.predict(X_test_scaled)\n",
    "print(f\"\\nFinal Model (K={best_k}):\")\n",
    "print(f\"R² Score: {r2_score(y_test, predictions):.3f}\")\n",
    "print(f\"RMSE: {np.sqrt(mean_squared_error(y_test, predictions)):.3f}\")\n",
    "\n",
    "# 7. For making predictions on new data\n",
    "new_data = pd.DataFrame({\n",
    "    '11': [1, 6],\n",
    "    '22': [2, 1],\n",
    "    '25': [2, 3],\n",
    "    '26': [2, 3],\n",
    "    '30': [3, 5]\n",
    "})\n",
    "\n",
    "new_data_scaled = scaler.transform(new_data)\n",
    "new_predictions = knn_final.predict(new_data_scaled)\n",
    "print(\"\\nPredictions for new data:\", new_predictions)"
   ]
  }
 ],
 "metadata": {
  "kernelspec": {
   "display_name": "base",
   "language": "python",
   "name": "python3"
  },
  "language_info": {
   "codemirror_mode": {
    "name": "ipython",
    "version": 3
   },
   "file_extension": ".py",
   "mimetype": "text/x-python",
   "name": "python",
   "nbconvert_exporter": "python",
   "pygments_lexer": "ipython3",
   "version": "3.9.17"
  }
 },
 "nbformat": 4,
 "nbformat_minor": 2
}
