{
 "cells": [
  {
   "cell_type": "markdown",
   "metadata": {},
   "source": [
    "# Experiment 1-1\n",
    "# Linear Regression with 5 features\n"
   ]
  },
  {
   "cell_type": "code",
   "execution_count": 1,
   "metadata": {},
   "outputs": [],
   "source": [
    "\n",
    "import warnings\n",
    "warnings.filterwarnings('ignore')\n",
    "import numpy as np\n",
    "import pandas as pd\n",
    "import matplotlib.pyplot as plt\n",
    "\n",
    "from sklearn.model_selection import train_test_split\n",
    "from sklearn.metrics import *\n"
   ]
  },
  {
   "cell_type": "code",
   "execution_count": 2,
   "metadata": {},
   "outputs": [],
   "source": [
    "student_df = pd.read_csv(\"StudentsPerformance.csv\")\n",
    "\n",
    "# student_df.head()\n",
    "# student_df.info()"
   ]
  },
  {
   "cell_type": "markdown",
   "metadata": {},
   "source": [
    "## 8:1:1"
   ]
  },
  {
   "cell_type": "code",
   "execution_count": 6,
   "metadata": {},
   "outputs": [],
   "source": [
    "features = student_df[['11', '22', '25', '26', '30']]  # 5 features\n",
    "# label = student_df['32']  # Target variable\n",
    "label = student_df['GRADE']  # Target variable\n",
    "\n",
    "from sklearn.model_selection import train_test_split\n",
    "# X_train, X_test, y_train, y_test = train_test_split(features, label, test_size=0.2, random_state=42)\n",
    "X_temp, X_test, y_temp, y_test = train_test_split(features, label, test_size=0.1, random_state=42)\n",
    "X_train, X_val, y_train, y_val = train_test_split(X_temp, y_temp, test_size=0.11, random_state=42)\n",
    "# 8:1:1 = train:val:test"
   ]
  },
  {
   "cell_type": "markdown",
   "metadata": {},
   "source": [
    "## 6:2:2\n"
   ]
  },
  {
   "cell_type": "code",
   "execution_count": 25,
   "metadata": {},
   "outputs": [],
   "source": [
    "features = student_df[['11', '22', '25', '26', '30']]  # 5 features\n",
    "label = student_df['GRADE']  # Target variable\n",
    "\n",
    "from sklearn.model_selection import train_test_split\n",
    "# X_train, X_test, y_train, y_test = train_test_split(features, label, test_size=0.2, random_state=42)\n",
    "X_temp, X_test, y_temp, y_test = train_test_split(features, label, test_size=0.2, random_state=42)\n",
    "X_train, X_val, y_train, y_val = train_test_split(X_temp, y_temp, test_size=0.25, random_state=42)\n",
    "# 6:2: 2 = train:val:test"
   ]
  },
  {
   "cell_type": "markdown",
   "metadata": {},
   "source": [
    "## 7:1.5:1.5"
   ]
  },
  {
   "cell_type": "code",
   "execution_count": 21,
   "metadata": {},
   "outputs": [],
   "source": [
    "features = student_df[['11', '22', '25', '26', '30']]  # 5 features\n",
    "label = student_df['GRADE']  # Target variable\n",
    "\n",
    "from sklearn.model_selection import train_test_split\n",
    "# X_train, X_test, y_train, y_test = train_test_split(features, label, test_size=0.2, random_state=42)\n",
    "X_temp, X_test, y_temp, y_test = train_test_split(features, label, test_size=0.15, random_state=42)\n",
    "X_train, X_val, y_train, y_val = train_test_split(X_temp, y_temp, test_size=0.18, random_state=42)\n",
    "# 7:1.8:1.8 = train:val:test"
   ]
  },
  {
   "cell_type": "code",
   "execution_count": 7,
   "metadata": {},
   "outputs": [
    {
     "data": {
      "text/html": [
       "<style>#sk-container-id-2 {color: black;background-color: white;}#sk-container-id-2 pre{padding: 0;}#sk-container-id-2 div.sk-toggleable {background-color: white;}#sk-container-id-2 label.sk-toggleable__label {cursor: pointer;display: block;width: 100%;margin-bottom: 0;padding: 0.3em;box-sizing: border-box;text-align: center;}#sk-container-id-2 label.sk-toggleable__label-arrow:before {content: \"▸\";float: left;margin-right: 0.25em;color: #696969;}#sk-container-id-2 label.sk-toggleable__label-arrow:hover:before {color: black;}#sk-container-id-2 div.sk-estimator:hover label.sk-toggleable__label-arrow:before {color: black;}#sk-container-id-2 div.sk-toggleable__content {max-height: 0;max-width: 0;overflow: hidden;text-align: left;background-color: #f0f8ff;}#sk-container-id-2 div.sk-toggleable__content pre {margin: 0.2em;color: black;border-radius: 0.25em;background-color: #f0f8ff;}#sk-container-id-2 input.sk-toggleable__control:checked~div.sk-toggleable__content {max-height: 200px;max-width: 100%;overflow: auto;}#sk-container-id-2 input.sk-toggleable__control:checked~label.sk-toggleable__label-arrow:before {content: \"▾\";}#sk-container-id-2 div.sk-estimator input.sk-toggleable__control:checked~label.sk-toggleable__label {background-color: #d4ebff;}#sk-container-id-2 div.sk-label input.sk-toggleable__control:checked~label.sk-toggleable__label {background-color: #d4ebff;}#sk-container-id-2 input.sk-hidden--visually {border: 0;clip: rect(1px 1px 1px 1px);clip: rect(1px, 1px, 1px, 1px);height: 1px;margin: -1px;overflow: hidden;padding: 0;position: absolute;width: 1px;}#sk-container-id-2 div.sk-estimator {font-family: monospace;background-color: #f0f8ff;border: 1px dotted black;border-radius: 0.25em;box-sizing: border-box;margin-bottom: 0.5em;}#sk-container-id-2 div.sk-estimator:hover {background-color: #d4ebff;}#sk-container-id-2 div.sk-parallel-item::after {content: \"\";width: 100%;border-bottom: 1px solid gray;flex-grow: 1;}#sk-container-id-2 div.sk-label:hover label.sk-toggleable__label {background-color: #d4ebff;}#sk-container-id-2 div.sk-serial::before {content: \"\";position: absolute;border-left: 1px solid gray;box-sizing: border-box;top: 0;bottom: 0;left: 50%;z-index: 0;}#sk-container-id-2 div.sk-serial {display: flex;flex-direction: column;align-items: center;background-color: white;padding-right: 0.2em;padding-left: 0.2em;position: relative;}#sk-container-id-2 div.sk-item {position: relative;z-index: 1;}#sk-container-id-2 div.sk-parallel {display: flex;align-items: stretch;justify-content: center;background-color: white;position: relative;}#sk-container-id-2 div.sk-item::before, #sk-container-id-2 div.sk-parallel-item::before {content: \"\";position: absolute;border-left: 1px solid gray;box-sizing: border-box;top: 0;bottom: 0;left: 50%;z-index: -1;}#sk-container-id-2 div.sk-parallel-item {display: flex;flex-direction: column;z-index: 1;position: relative;background-color: white;}#sk-container-id-2 div.sk-parallel-item:first-child::after {align-self: flex-end;width: 50%;}#sk-container-id-2 div.sk-parallel-item:last-child::after {align-self: flex-start;width: 50%;}#sk-container-id-2 div.sk-parallel-item:only-child::after {width: 0;}#sk-container-id-2 div.sk-dashed-wrapped {border: 1px dashed gray;margin: 0 0.4em 0.5em 0.4em;box-sizing: border-box;padding-bottom: 0.4em;background-color: white;}#sk-container-id-2 div.sk-label label {font-family: monospace;font-weight: bold;display: inline-block;line-height: 1.2em;}#sk-container-id-2 div.sk-label-container {text-align: center;}#sk-container-id-2 div.sk-container {/* jupyter's `normalize.less` sets `[hidden] { display: none; }` but bootstrap.min.css set `[hidden] { display: none !important; }` so we also need the `!important` here to be able to override the default hidden behavior on the sphinx rendered scikit-learn.org. See: https://github.com/scikit-learn/scikit-learn/issues/21755 */display: inline-block !important;position: relative;}#sk-container-id-2 div.sk-text-repr-fallback {display: none;}</style><div id=\"sk-container-id-2\" class=\"sk-top-container\"><div class=\"sk-text-repr-fallback\"><pre>LinearRegression()</pre><b>In a Jupyter environment, please rerun this cell to show the HTML representation or trust the notebook. <br />On GitHub, the HTML representation is unable to render, please try loading this page with nbviewer.org.</b></div><div class=\"sk-container\" hidden><div class=\"sk-item\"><div class=\"sk-estimator sk-toggleable\"><input class=\"sk-toggleable__control sk-hidden--visually\" id=\"sk-estimator-id-2\" type=\"checkbox\" checked><label for=\"sk-estimator-id-2\" class=\"sk-toggleable__label sk-toggleable__label-arrow\">LinearRegression</label><div class=\"sk-toggleable__content\"><pre>LinearRegression()</pre></div></div></div></div></div>"
      ],
      "text/plain": [
       "LinearRegression()"
      ]
     },
     "execution_count": 7,
     "metadata": {},
     "output_type": "execute_result"
    }
   ],
   "source": [
    "from sklearn.linear_model import LinearRegression\n",
    "LR = LinearRegression()\n",
    "LR.fit(X_train, y_train)\n"
   ]
  },
  {
   "cell_type": "code",
   "execution_count": 8,
   "metadata": {},
   "outputs": [
    {
     "name": "stdout",
     "output_type": "stream",
     "text": [
      "MSE: 4.9191897117399375\n",
      "MAE: 1.973805364128641\n",
      "R-squared: -0.0007393174877809994\n",
      "RMSE: 2.217924640680999\n"
     ]
    }
   ],
   "source": [
    "from sklearn.metrics import mean_squared_error, mean_absolute_error, r2_score\n",
    "\n",
    "pred = LR.predict(X_test)\n",
    "print(f\"MSE: {mean_squared_error(y_test, pred)}\")\n",
    "print(f\"MAE: {mean_absolute_error(y_test, pred)}\")\n",
    "print(f\"R-squared: {r2_score(y_test, pred)}\")\n",
    "print(f\"RMSE: {np.sqrt(mean_squared_error(y_test, pred))}\")\n"
   ]
  },
  {
   "cell_type": "code",
   "execution_count": 39,
   "metadata": {},
   "outputs": [
    {
     "name": "stdout",
     "output_type": "stream",
     "text": [
      "Predictions: [3.0462742 5.3224713]\n"
     ]
    }
   ],
   "source": [
    "new_data = pd.DataFrame({\n",
    "    '11': [1, 6],  # Example values\n",
    "    '22': [2, 1],\n",
    "    '25': [2, 3],\n",
    "    '26': [2, 3],\n",
    "    '30': [3, 5]\n",
    "})\n",
    "\n",
    "predictions = LR.predict(new_data)\n",
    "print(\"Predictions:\", predictions)\n"
   ]
  },
  {
   "cell_type": "markdown",
   "metadata": {},
   "source": [
    "### Data Visualization"
   ]
  },
  {
   "cell_type": "code",
   "execution_count": 40,
   "metadata": {},
   "outputs": [
    {
     "data": {
      "text/plain": [
       "<matplotlib.legend.Legend at 0x7f9262fa9610>"
      ]
     },
     "execution_count": 40,
     "metadata": {},
     "output_type": "execute_result"
    },
    {
     "data": {
      "image/png": "[encoded data removed]",
      "text/plain": [
       "<Figure size 800x800 with 1 Axes>"
      ]
     },
     "metadata": {},
     "output_type": "display_data"
    }
   ],
   "source": [
    "plt.figure(figsize=(8, 8))\n",
    "\n",
    "plt.scatter(y_test, pred)\n",
    "plt.plot([y_test.min(), y_test.max()], [y_test.min(), y_test.max()], '--k', label=\"Correct prediction\")\n",
    "\n",
    "plt.xlabel('True GRADE')\n",
    "plt.ylabel('Predicted GRADE')\n",
    "plt.title(\"Real vs Predicted GRADE\")\n",
    "\n",
    "plt.legend()"
   ]
  },
  {
   "cell_type": "markdown",
   "metadata": {},
   "source": [
    "---\n",
    "---\n",
    "---\n"
   ]
  },
  {
   "cell_type": "markdown",
   "metadata": {},
   "source": [
    "# Experiment 1-2\n",
    "# correlation with target\n",
    "# Linear Regression with correlation-based features\n"
   ]
  },
  {
   "cell_type": "code",
   "execution_count": 10,
   "metadata": {},
   "outputs": [],
   "source": [
    "from sklearn.preprocessing import StandardScaler"
   ]
  },
  {
   "cell_type": "code",
   "execution_count": 41,
   "metadata": {},
   "outputs": [
    {
     "name": "stdout",
     "output_type": "stream",
     "text": [
      "Top correlations with target:\n",
      "\n",
      "Selected features based on correlation:\n",
      "['2', '29', '30', '18', '5', '22', '9', '8', '20', '21']\n"
     ]
    }
   ],
   "source": [
    "# 1. First, let's check correlation of ALL numeric columns with your target\n",
    "numeric_columns = student_df.select_dtypes(include=[np.number]).columns\n",
    "correlations = student_df[numeric_columns].corr()['GRADE'].sort_values(ascending=False)\n",
    "print(\"Top correlations with target:\")\n",
    "# print(correlations)\n",
    "\n",
    "# 2. Select only the most correlated features (|correlation| > 0.1)\n",
    "better_features = correlations[abs(correlations) > 0.1].index.tolist()\n",
    "better_features = ['2', '29', '30', '18', '5', 'GRADE', '22','9','8', '20', '21']\n",
    "better_features.remove('GRADE')  # Remove target from features\n",
    "\n",
    "print(\"\\nSelected features based on correlation:\")\n",
    "print(better_features)\n",
    "\n",
    "# 3. Try model with better features\n",
    "X = student_df[better_features]\n",
    "y = student_df['11']\n",
    "\n"
   ]
  },
  {
   "cell_type": "markdown",
   "metadata": {},
   "source": [
    "## 8:1:1"
   ]
  },
  {
   "cell_type": "code",
   "execution_count": 15,
   "metadata": {},
   "outputs": [
    {
     "name": "stdout",
     "output_type": "stream",
     "text": [
      "MSE: 1.4587383479538927\n",
      "MAE: 1.0712557381671342\n",
      "\n",
      "Random Forest Metrics:\n",
      "R-squared: 0.06223963345821182\n",
      "RMSE: 1.207782409192108\n"
     ]
    }
   ],
   "source": [
    "# 4. Split and scale\n",
    "X_temp, X_test, y_temp, y_test = train_test_split(X, y, test_size=0.1, random_state=42)\n",
    "X_train, X_val, y_train, y_val = train_test_split(X_temp, y_temp, test_size=0.11, random_state=42)\n",
    "# 8:1:1 = train:val:test\n",
    "scaler = StandardScaler()\n",
    "X_train_scaled = scaler.fit_transform(X_train)\n",
    "X_test_scaled = scaler.transform(X_test)\n",
    "\n",
    "LR = LinearRegression()\n",
    "LR.fit(X_train_scaled, y_train)\n",
    "pred = LR.predict(X_test_scaled)\n",
    "\n",
    "print(f\"MSE: {mean_squared_error(y_test, pred)}\")\n",
    "print(f\"MAE: {mean_absolute_error(y_test, pred)}\")\n",
    "print(\"\\nRandom Forest Metrics:\")\n",
    "print(f\"R-squared: {r2_score(y_test, pred)}\")\n",
    "print(f\"RMSE: {np.sqrt(mean_squared_error(y_test, pred))}\")\n"
   ]
  },
  {
   "cell_type": "markdown",
   "metadata": {},
   "source": [
    "## 6:2:2"
   ]
  },
  {
   "cell_type": "code",
   "execution_count": 19,
   "metadata": {},
   "outputs": [
    {
     "name": "stdout",
     "output_type": "stream",
     "text": [
      "MSE: 1.8241211473935053\n",
      "MAE: 1.1516542621936212\n",
      "\n",
      "Random Forest Metrics:\n",
      "R-squared: -0.03654451686347149\n",
      "RMSE: 1.3506002914976383\n"
     ]
    }
   ],
   "source": [
    "# 4. Split and scale\n",
    "X_temp, X_test, y_temp, y_test = train_test_split(X, y, test_size=0.2, random_state=42)\n",
    "X_train, X_val, y_train, y_val = train_test_split(X_temp, y_temp, test_size=0.25, random_state=42)\n",
    "# 6:2:2 = train:val:test\n",
    "scaler = StandardScaler()\n",
    "X_train_scaled = scaler.fit_transform(X_train)\n",
    "X_test_scaled = scaler.transform(X_test)\n",
    "\n",
    "LR = LinearRegression()\n",
    "LR.fit(X_train_scaled, y_train)\n",
    "pred = LR.predict(X_test_scaled)\n",
    "\n",
    "print(f\"MSE: {mean_squared_error(y_test, pred)}\")\n",
    "print(f\"MAE: {mean_absolute_error(y_test, pred)}\")\n",
    "print(\"\\nRandom Forest Metrics:\")\n",
    "print(f\"R-squared: {r2_score(y_test, pred)}\")\n",
    "print(f\"RMSE: {np.sqrt(mean_squared_error(y_test, pred))}\")\n"
   ]
  },
  {
   "cell_type": "markdown",
   "metadata": {},
   "source": [
    "## 7:1.5:1.5"
   ]
  },
  {
   "cell_type": "code",
   "execution_count": 44,
   "metadata": {},
   "outputs": [
    {
     "name": "stdout",
     "output_type": "stream",
     "text": [
      "MSE: 1.2996484668957942\n",
      "MAE: 1.003063806798446\n",
      "\n",
      "Random Forest Metrics:\n",
      "R-squared: 0.11653109834611752\n",
      "RMSE: 1.140021257212248\n"
     ]
    }
   ],
   "source": [
    "# 4. Split and scale\n",
    "X_temp, X_test, y_temp, y_test = train_test_split(X, y, test_size=0.15, random_state=42)\n",
    "X_train, X_val, y_train, y_val = train_test_split(X_temp, y_temp, test_size=0.18, random_state=42)\n",
    "# 7:1.8:1.8 = train:val:test\n",
    "scaler = StandardScaler()\n",
    "X_train_scaled = scaler.fit_transform(X_train)\n",
    "X_test_scaled = scaler.transform(X_test)\n",
    "\n",
    "LR = LinearRegression()\n",
    "LR.fit(X_train_scaled, y_train)\n",
    "pred = LR.predict(X_test_scaled)\n",
    "\n",
    "print(f\"MSE: {mean_squared_error(y_test, pred)}\")\n",
    "print(f\"MAE: {mean_absolute_error(y_test, pred)}\")\n",
    "print(\"\\nRandom Forest Metrics:\")\n",
    "print(f\"R-squared: {r2_score(y_test, pred)}\")\n",
    "print(f\"RMSE: {np.sqrt(mean_squared_error(y_test, pred))}\")\n"
   ]
  },
  {
   "cell_type": "markdown",
   "metadata": {},
   "source": [
    "# Predictions"
   ]
  },
  {
   "cell_type": "code",
   "execution_count": null,
   "metadata": {},
   "outputs": [
    {
     "name": "stdout",
     "output_type": "stream",
     "text": [
      "Predictions: [2.77716048 4.51118259]\n"
     ]
    }
   ],
   "source": [
    "new_data = pd.DataFrame({\n",
    "    '2': [1, 6],  # Example values\n",
    "    '29': [2, 5],\n",
    "    '30': [2, 5],\n",
    "    '18': [2, 3],\n",
    "    '5': [1, 2],\n",
    "    '22': [2, 1],\n",
    "    '9': [1, 2],\n",
    "    '8': [1, 4],\n",
    "    '20': [1, 2],\n",
    "    '21': [2, 1]\n",
    "})\n",
    "\n",
    "predictions = LR.predict(new_data)\n",
    "print(\"Predictions:\", predictions)\n"
   ]
  },
  {
   "cell_type": "markdown",
   "metadata": {},
   "source": [
    "### Data Visualization"
   ]
  },
  {
   "cell_type": "code",
   "execution_count": 45,
   "metadata": {},
   "outputs": [
    {
     "data": {
      "text/plain": [
       "<matplotlib.legend.Legend at 0x7f9283952fd0>"
      ]
     },
     "execution_count": 45,
     "metadata": {},
     "output_type": "execute_result"
    },
    {
     "data": {
      "image/png": "[encoded data removed]",
      "text/plain": [
       "<Figure size 800x800 with 1 Axes>"
      ]
     },
     "metadata": {},
     "output_type": "display_data"
    }
   ],
   "source": [
    "plt.figure(figsize=(8, 8))\n",
    "\n",
    "plt.scatter(y_test, pred)\n",
    "plt.plot([y_test.min(), y_test.max()], [y_test.min(), y_test.max()], '--k', label=\"Correct prediction\")\n",
    "\n",
    "plt.xlabel('True GRADE')\n",
    "plt.ylabel('Predicted GRADE')\n",
    "plt.title(\"Real vs Predicted GRADE\")\n",
    "\n",
    "plt.legend()"
   ]
  },
  {
   "cell_type": "markdown",
   "metadata": {},
   "source": [
    "---\n",
    "---"
   ]
  }
 ],
 "metadata": {
  "kernelspec": {
   "display_name": "base",
   "language": "python",
   "name": "python3"
  },
  "language_info": {
   "codemirror_mode": {
    "name": "ipython",
    "version": 3
   },
   "file_extension": ".py",
   "mimetype": "text/x-python",
   "name": "python",
   "nbconvert_exporter": "python",
   "pygments_lexer": "ipython3",
   "version": "3.9.13"
  }
 },
 "nbformat": 4,
 "nbformat_minor": 2
}
