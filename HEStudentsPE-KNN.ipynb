{
 "cells": [
  {
   "cell_type": "markdown",
   "metadata": {},
   "source": [
    "# Experiment 3-1\n",
    "# KNN with 5 features\n"
   ]
  },
  {
   "cell_type": "code",
   "execution_count": 9,
   "metadata": {},
   "outputs": [],
   "source": [
    "\n",
    "import warnings\n",
    "warnings.filterwarnings('ignore')\n",
    "import numpy as np\n",
    "import pandas as pd\n",
    "import matplotlib.pyplot as plt\n",
    "\n",
    "from sklearn.model_selection import train_test_split\n",
    "from sklearn.metrics import *\n"
   ]
  },
  {
   "cell_type": "code",
   "execution_count": 10,
   "metadata": {},
   "outputs": [],
   "source": [
    "from sklearn.preprocessing import StandardScaler\n",
    "from sklearn.ensemble import RandomForestRegressor\n",
    "from sklearn.model_selection import GridSearchCV\n",
    "from sklearn.neighbors import KNeighborsRegressor\n",
    "from sklearn.preprocessing import StandardScaler\n",
    "from sklearn.metrics import r2_score, mean_squared_error, mean_absolute_error\n"
   ]
  },
  {
   "cell_type": "code",
   "execution_count": 11,
   "metadata": {},
   "outputs": [],
   "source": [
    "student_df = pd.read_csv(\"StudentsPerformance.csv\")\n",
    "\n",
    "# student_df.head()\n",
    "# student_df.info()"
   ]
  },
  {
   "cell_type": "code",
   "execution_count": null,
   "metadata": {},
   "outputs": [],
   "source": []
  },
  {
   "cell_type": "markdown",
   "metadata": {},
   "source": [
    "## 8:1:1"
   ]
  },
  {
   "cell_type": "code",
   "execution_count": 12,
   "metadata": {},
   "outputs": [],
   "source": [
    "# 1. Prepare data\n",
    "X = student_df[['11', '22', '25', '26', '30']]  # 5 features\n",
    "y = student_df['GRADE']\n",
    "\n",
    "# 2. Split data\n",
    "X_temp, X_test, y_temp, y_test = train_test_split(X, y, test_size=0.1, random_state=42)\n",
    "X_train, X_val, y_train, y_val = train_test_split(X_temp, y_temp, test_size=0.11, random_state=42)\n",
    "# 8:1:1 = train:val:test\n",
    "\n",
    "# 3. Scale features (important for KNN!)\n",
    "scaler = StandardScaler()\n",
    "X_train_scaled = scaler.fit_transform(X_train)\n",
    "X_test_scaled = scaler.transform(X_test)\n"
   ]
  },
  {
   "cell_type": "markdown",
   "metadata": {},
   "source": [
    "## 6:2:2 "
   ]
  },
  {
   "cell_type": "code",
   "execution_count": 112,
   "metadata": {},
   "outputs": [],
   "source": [
    "# 1. Prepare data\n",
    "X = student_df[['11', '22', '25', '26', '30']]  # 5 features\n",
    "y = student_df['GRADE']\n",
    "\n",
    "# 2. Split data\n",
    "X_temp, X_test, y_temp, y_test = train_test_split(X, y, test_size=0.2, random_state=42)\n",
    "X_train, X_val, y_train, y_val = train_test_split(X_temp, y_temp, test_size=0.25, random_state=42)\n",
    "# 6:2:2 = train:val:test\n",
    "\n",
    "# 3. Scale features (important for KNN!)\n",
    "scaler = StandardScaler()\n",
    "X_train_scaled = scaler.fit_transform(X_train)\n",
    "X_test_scaled = scaler.transform(X_test)\n"
   ]
  },
  {
   "cell_type": "markdown",
   "metadata": {},
   "source": [
    "## 7:1.5:1.5 "
   ]
  },
  {
   "cell_type": "code",
   "execution_count": 21,
   "metadata": {},
   "outputs": [],
   "source": [
    "# 1. Prepare data\n",
    "X = student_df[['11', '22', '25', '26', '30']]  # 5 features\n",
    "y = student_df['GRADE']\n",
    "\n",
    "# 2. Split data\n",
    "X_temp, X_test, y_temp, y_test = train_test_split(X, y, test_size=0.15, random_state=42)\n",
    "X_train, X_val, y_train, y_val = train_test_split(X_temp, y_temp, test_size=0.18, random_state=42)\n",
    "# 7:1.5:1.5 = train:val:test\n",
    "\n",
    "# 3. Scale features (important for KNN!)\n",
    "scaler = StandardScaler()\n",
    "X_train_scaled = scaler.fit_transform(X_train)\n",
    "X_test_scaled = scaler.transform(X_test)\n"
   ]
  },
  {
   "cell_type": "code",
   "execution_count": 13,
   "metadata": {},
   "outputs": [
    {
     "name": "stdout",
     "output_type": "stream",
     "text": [
      "K=3, R² Score: 0.073\n",
      "K=5, R² Score: 0.039\n",
      "K=7, R² Score: -0.125\n",
      "K=9, R² Score: 0.002\n",
      "K=11, R² Score: -0.013\n",
      "\n",
      "Final Model (K=3):\n",
      "R² Score: 0.073\n",
      "RMSE: 2.134\n",
      "MSE: 4.555555555555556\n",
      "MAE: 1.8444444444444446\n",
      "\n",
      "Predictions for new data: [3.66666667 5.33333333]\n"
     ]
    }
   ],
   "source": [
    "\n",
    "# 4. Try different K values to find the best one\n",
    "k_values = [3, 5, 7, 9, 11]\n",
    "best_score = -float('inf')\n",
    "best_k = None\n",
    "\n",
    "for k in k_values:\n",
    "    knn = KNeighborsRegressor(n_neighbors=k)\n",
    "    knn.fit(X_train_scaled, y_train)\n",
    "    score = knn.score(X_test_scaled, y_test)\n",
    "    print(f\"K={k}, R² Score: {score:.3f}\")\n",
    "    \n",
    "    if score > best_score:\n",
    "        best_score = score\n",
    "        best_k = k\n",
    "\n",
    "# 5. Train final model with best K\n",
    "knn_final = KNeighborsRegressor(n_neighbors=best_k)\n",
    "knn_final.fit(X_train_scaled, y_train)\n",
    "\n",
    "# 6. Make predictions and evaluate\n",
    "predictions = knn_final.predict(X_test_scaled)\n",
    "print(f\"\\nFinal Model (K={best_k}):\")\n",
    "print(f\"R² Score: {r2_score(y_test, predictions):.3f}\")\n",
    "print(f\"RMSE: {np.sqrt(mean_squared_error(y_test, predictions)):.3f}\")\n",
    "\n",
    "print(f\"MSE: {mean_squared_error(y_test, predictions)}\")\n",
    "print(f\"MAE: {mean_absolute_error(y_test, predictions)}\")\n",
    "\n",
    "# 7. For making predictions on new data\n",
    "new_data = pd.DataFrame({\n",
    "    '11': [1, 6],\n",
    "    '22': [2, 1],\n",
    "    '25': [2, 3],\n",
    "    '26': [2, 3],\n",
    "    '30': [3, 5]\n",
    "})\n",
    "\n",
    "new_data_scaled = scaler.transform(new_data)\n",
    "new_predictions = knn_final.predict(new_data_scaled)\n",
    "print(\"\\nPredictions for new data:\", new_predictions)"
   ]
  },
  {
   "cell_type": "code",
   "execution_count": 14,
   "metadata": {},
   "outputs": [
    {
     "data": {
      "text/plain": [
       "<matplotlib.legend.Legend at 0x7fe913e73550>"
      ]
     },
     "execution_count": 14,
     "metadata": {},
     "output_type": "execute_result"
    },
    {
     "data": {
      "image/png": "[encoded data removed]",
      "text/plain": [
       "<Figure size 800x800 with 1 Axes>"
      ]
     },
     "metadata": {},
     "output_type": "display_data"
    }
   ],
   "source": [
    "plt.figure(figsize=(8, 8))\n",
    "\n",
    "plt.scatter(y_test, predictions)\n",
    "plt.plot([y_test.min(), y_test.max()], [y_test.min(), y_test.max()], '--k', label=\"Correct prediction\")\n",
    "\n",
    "plt.xlabel('True GRADE')\n",
    "plt.ylabel('Predicted GRADE')\n",
    "plt.title(\"Real vs Predicted GRADE\")\n",
    "\n",
    "plt.legend()"
   ]
  },
  {
   "cell_type": "markdown",
   "metadata": {},
   "source": [
    "# <mark>KNN with strong features\n",
    "# Select only features with meaningful correlation"
   ]
  },
  {
   "cell_type": "code",
   "execution_count": 1,
   "metadata": {},
   "outputs": [
    {
     "name": "stdout",
     "output_type": "stream",
     "text": [
      "Intel MKL WARNING: Support of Intel(R) Streaming SIMD Extensions 4.2 (Intel(R) SSE4.2) enabled only processors has been deprecated. Intel oneAPI Math Kernel Library 2025.0 will require Intel(R) Advanced Vector Extensions (Intel(R) AVX) instructions.\n",
      "Intel MKL WARNING: Support of Intel(R) Streaming SIMD Extensions 4.2 (Intel(R) SSE4.2) enabled only processors has been deprecated. Intel oneAPI Math Kernel Library 2025.0 will require Intel(R) Advanced Vector Extensions (Intel(R) AVX) instructions.\n"
     ]
    }
   ],
   "source": [
    "\n",
    "import warnings\n",
    "warnings.filterwarnings('ignore')\n",
    "import numpy as np\n",
    "import pandas as pd\n",
    "import matplotlib.pyplot as plt\n",
    "\n",
    "from sklearn.model_selection import train_test_split\n",
    "from sklearn.metrics import *\n"
   ]
  },
  {
   "cell_type": "code",
   "execution_count": 2,
   "metadata": {},
   "outputs": [],
   "source": [
    "from sklearn.preprocessing import StandardScaler\n",
    "from sklearn.ensemble import RandomForestRegressor\n",
    "from sklearn.model_selection import GridSearchCV\n",
    "from sklearn.neighbors import KNeighborsRegressor\n",
    "from sklearn.preprocessing import StandardScaler\n",
    "from sklearn.metrics import r2_score, mean_squared_error, mean_absolute_error\n"
   ]
  },
  {
   "cell_type": "code",
   "execution_count": 25,
   "metadata": {},
   "outputs": [],
   "source": [
    "student_df = pd.read_csv(\"StudentsPerformance.csv\")\n",
    "\n",
    "# student_df.head()\n",
    "# student_df.info()"
   ]
  },
  {
   "cell_type": "code",
   "execution_count": 30,
   "metadata": {},
   "outputs": [
    {
     "name": "stdout",
     "output_type": "stream",
     "text": [
      "Top correlations with target:\n",
      "GRADE        1.000000\n",
      "2            0.335533\n",
      "29           0.315493\n",
      "30           0.248588\n",
      "18           0.195617\n",
      "5            0.167445\n",
      "27           0.146547\n",
      "COURSE ID    0.142166\n",
      "28           0.110617\n",
      "3            0.104821\n",
      "26           0.085137\n",
      "13           0.084470\n",
      "24           0.073783\n",
      "14           0.066379\n",
      "11           0.066318\n",
      "12           0.063504\n",
      "25           0.044862\n",
      "4            0.023963\n",
      "10           0.023683\n",
      "23           0.014638\n",
      "19           0.003189\n",
      "15          -0.030747\n",
      "17          -0.033065\n",
      "16          -0.044268\n",
      "7           -0.051778\n",
      "6           -0.062993\n",
      "1           -0.095251\n",
      "22          -0.139564\n",
      "9           -0.156289\n",
      "8           -0.166352\n",
      "20          -0.184763\n",
      "21          -0.203273\n",
      "Name: GRADE, dtype: float64\n",
      "\n",
      "Selected features based on correlation:\n",
      "['2', '29', '30', '18', '5', 'GRADE', '22', '9', '8', '20', '21']\n"
     ]
    }
   ],
   "source": [
    "# 1. First, let's check correlation of ALL numeric columns with your target\n",
    "numeric_columns = student_df.select_dtypes(include=[np.number]).columns\n",
    "correlations = student_df[numeric_columns].corr()['GRADE'].sort_values(ascending=False)\n",
    "print(\"Top correlations with target:\")\n",
    "print(correlations)\n",
    "\n",
    "# 2. Select only the most correlated features (|correlation| > 0.1)\n",
    "better_features = correlations[abs(correlations) > 0.2].index.tolist()\n",
    "better_features.remove('GRADE')  # Remove target from features\n",
    "better_features = ['2', '29', '30', '18', '5','GRADE', '22','9','8', '20', '21']\n",
    "\n",
    "print(\"\\nSelected features based on correlation:\")\n",
    "print(better_features)"
   ]
  },
  {
   "cell_type": "markdown",
   "metadata": {},
   "source": [
    "## 8:1:1"
   ]
  },
  {
   "cell_type": "code",
   "execution_count": 19,
   "metadata": {},
   "outputs": [],
   "source": [
    "\n",
    "# Use only strong features\n",
    "X = student_df[better_features]\n",
    "y = student_df['GRADE']\n",
    "\n",
    "# Split and scale\n",
    "X_temp, X_test, y_temp, y_test = train_test_split(X, y, test_size=0.1, random_state=42)\n",
    "X_train, X_val, y_train, y_val = train_test_split(X_temp, y_temp, test_size=0.11, random_state=42)\n",
    "scaler = StandardScaler()\n",
    "X_train_scaled = scaler.fit_transform(X_train)\n",
    "X_test_scaled = scaler.transform(X_test)"
   ]
  },
  {
   "cell_type": "markdown",
   "metadata": {},
   "source": [
    "## 6:2:2 "
   ]
  },
  {
   "cell_type": "code",
   "execution_count": 12,
   "metadata": {},
   "outputs": [],
   "source": [
    "# Use only strong features\n",
    "X = student_df[better_features]\n",
    "y = student_df['GRADE']\n",
    "# Split and scale\n",
    "X_temp, X_test, y_temp, y_test = train_test_split(X, y, test_size=0.2, random_state=42)\n",
    "X_train, X_val, y_train, y_val = train_test_split(X_temp, y_temp, test_size=0.25, random_state=42)\n",
    "scaler = StandardScaler()\n",
    "X_train_scaled = scaler.fit_transform(X_train)\n",
    "X_test_scaled = scaler.transform(X_test)"
   ]
  },
  {
   "cell_type": "markdown",
   "metadata": {},
   "source": [
    "## 7:1.5:1.5 "
   ]
  },
  {
   "cell_type": "code",
   "execution_count": 27,
   "metadata": {},
   "outputs": [],
   "source": [
    "# Use only strong features\n",
    "X = student_df[better_features]\n",
    "y = student_df['GRADE']\n",
    "# Split and scale\n",
    "X_temp, X_test, y_temp, y_test = train_test_split(X, y, test_size=0.15, random_state=42)\n",
    "X_train, X_val, y_train, y_val = train_test_split(X_temp, y_temp, test_size=0.18, random_state=42)\n",
    "scaler = StandardScaler()\n",
    "X_train_scaled = scaler.fit_transform(X_train)\n",
    "X_test_scaled = scaler.transform(X_test)"
   ]
  },
  {
   "cell_type": "code",
   "execution_count": 28,
   "metadata": {},
   "outputs": [
    {
     "name": "stdout",
     "output_type": "stream",
     "text": [
      "K=2, weights=uniform, R² Score: 0.700\n",
      "K=2, weights=distance, R² Score: 0.726\n",
      "K=3, weights=uniform, R² Score: 0.738\n",
      "K=3, weights=distance, R² Score: 0.774\n",
      "K=4, weights=uniform, R² Score: 0.790\n",
      "K=4, weights=distance, R² Score: 0.815\n",
      "K=5, weights=uniform, R² Score: 0.786\n",
      "K=5, weights=distance, R² Score: 0.816\n",
      "\n",
      "KNN Metrics:\n",
      "\n",
      "Final Model (K=5, weights=distance):\n",
      "R² Score: 0.816\n",
      "RMSE: 0.989\n",
      "MSE: 0.9780667003189766\n",
      "MAE: 0.7521993098984954\n"
     ]
    }
   ],
   "source": [
    "\n",
    "\n",
    "# Try smaller K values and weights\n",
    "k_values = [2, 3, 4, 5 ]\n",
    "weights_options = ['uniform', 'distance']\n",
    "\n",
    "best_score = -float('inf')\n",
    "best_params = None\n",
    "\n",
    "for k in k_values:\n",
    "    for weights in weights_options:\n",
    "        knn = KNeighborsRegressor(n_neighbors=k, weights=weights)\n",
    "        knn.fit(X_train_scaled, y_train)\n",
    "        score = knn.score(X_test_scaled, y_test)\n",
    "        print(f\"K={k}, weights={weights}, R² Score: {score:.3f}\")\n",
    "        \n",
    "        if score > best_score:\n",
    "            best_score = score\n",
    "            best_params = (k, weights)\n",
    "\n",
    "# Train final model with best parameters\n",
    "k_best, weights_best = best_params\n",
    "knn_final = KNeighborsRegressor(n_neighbors=k_best, weights=weights_best)\n",
    "knn_final.fit(X_train_scaled, y_train)\n",
    "\n",
    "\n",
    "# Evaluate\n",
    "predictions = knn_final.predict(X_test_scaled)\n",
    "print(\"\\nKNN Metrics:\")\n",
    "print(f\"\\nFinal Model (K={k_best}, weights={weights_best}):\")\n",
    "print(f\"R² Score: {r2_score(y_test, predictions):.3f}\")\n",
    "print(f\"RMSE: {np.sqrt(mean_squared_error(y_test, predictions)):.3f}\")\n",
    "\n",
    "print(f\"MSE: {mean_squared_error(y_test, predictions)}\")\n",
    "print(f\"MAE: {mean_absolute_error(y_test, predictions)}\")\n"
   ]
  },
  {
   "cell_type": "code",
   "execution_count": 14,
   "metadata": {},
   "outputs": [
    {
     "name": "stdout",
     "output_type": "stream",
     "text": [
      "Predictions: [2. 5.]\n"
     ]
    }
   ],
   "source": [
    "new_data = pd.DataFrame({\n",
    "    '2': [1, 6],  # Example values\n",
    "    '29': [2, 5],\n",
    "    '30': [2, 5],\n",
    "    '18': [2, 3],\n",
    "    '5': [1, 2],\n",
    "    '22': [2, 1],\n",
    "    '9': [1, 2],\n",
    "    '8': [1, 4],\n",
    "    '20': [1, 2],\n",
    "    '21': [2, 1]\n",
    "})\n",
    "\n",
    "predictions = knn_final.predict(new_data)\n",
    "print(\"Predictions:\", predictions)\n"
   ]
  },
  {
   "cell_type": "code",
   "execution_count": 29,
   "metadata": {},
   "outputs": [
    {
     "data": {
      "text/plain": [
       "<matplotlib.legend.Legend at 0x7fbe69cfdf40>"
      ]
     },
     "execution_count": 29,
     "metadata": {},
     "output_type": "execute_result"
    },
    {
     "data": {
      "image/png": "[encoded data removed]",
      "text/plain": [
       "<Figure size 800x800 with 1 Axes>"
      ]
     },
     "metadata": {},
     "output_type": "display_data"
    }
   ],
   "source": [
    "plt.figure(figsize=(8, 8))\n",
    "\n",
    "plt.scatter(y_test, predictions)\n",
    "plt.plot([y_test.min(), y_test.max()], [y_test.min(), y_test.max()], '--k', label=\"Correct prediction\")\n",
    "\n",
    "plt.xlabel('True GRADE')\n",
    "plt.ylabel('Predicted GRADE')\n",
    "plt.title(\"Real vs Predicted GRADE\")\n",
    "\n",
    "plt.legend()"
   ]
  },
  {
   "cell_type": "code",
   "execution_count": null,
   "metadata": {},
   "outputs": [],
   "source": []
  }
 ],
 "metadata": {
  "kernelspec": {
   "display_name": "base",
   "language": "python",
   "name": "python3"
  },
  "language_info": {
   "codemirror_mode": {
    "name": "ipython",
    "version": 3
   },
   "file_extension": ".py",
   "mimetype": "text/x-python",
   "name": "python",
   "nbconvert_exporter": "python",
   "pygments_lexer": "ipython3",
   "version": "3.9.17"
  }
 },
 "nbformat": 4,
 "nbformat_minor": 2
}
